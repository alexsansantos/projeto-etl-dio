{
  "nbformat": 4,
  "nbformat_minor": 0,
  "metadata": {
    "colab": {
      "provenance": []
    },
    "kernelspec": {
      "name": "python3",
      "display_name": "Python 3"
    },
    "language_info": {
      "name": "python"
    }
  },
  "cells": [
    {
      "cell_type": "code",
      "execution_count": 4,
      "metadata": {
        "colab": {
          "base_uri": "https://localhost:8080/"
        },
        "id": "8HWRbvYO4C4a",
        "outputId": "9d94158a-84aa-4f2c-c55c-0dafc85b33c7"
      },
      "outputs": [
        {
          "output_type": "stream",
          "name": "stdout",
          "text": [
            "      Item  Valor Produto  Valor de Venda\n",
            "0   Laptop           5000            7000\n",
            "1  Monitor           2000            3000\n",
            "2    Mouse             50              90\n",
            "3  Teclado            150             200\n"
          ]
        }
      ],
      "source": [
        "import pandas as pd\n",
        "\n",
        "# Importar o arquivo Excel (Carregamento)\n",
        "df = pd.read_excel('Produtos.xlsx')\n",
        "\n",
        "# Visualizar o DataFrame\n",
        "print(df)\n"
      ]
    },
    {
      "cell_type": "code",
      "source": [
        "# Criar uma nova coluna com o valor da diferença (Transformação)\n",
        "df['Lucro'] = df['Valor de Venda'] - df['Valor Produto']\n",
        "\n",
        "print(df)"
      ],
      "metadata": {
        "colab": {
          "base_uri": "https://localhost:8080/"
        },
        "id": "FFfJvPHS5T2B",
        "outputId": "28308d54-a856-4d14-dcc9-d24668930168"
      },
      "execution_count": 5,
      "outputs": [
        {
          "output_type": "stream",
          "name": "stdout",
          "text": [
            "      Item  Valor Produto  Valor de Venda  Lucro\n",
            "0   Laptop           5000            7000   2000\n",
            "1  Monitor           2000            3000   1000\n",
            "2    Mouse             50              90     40\n",
            "3  Teclado            150             200     50\n"
          ]
        }
      ]
    },
    {
      "cell_type": "code",
      "source": [
        "# Salvar o arquivo Excel (Carga)\n",
        "df.to_excel('Produtos_Lucro.xlsx')"
      ],
      "metadata": {
        "id": "Gu-2gvdf6GyA"
      },
      "execution_count": 6,
      "outputs": []
    }
  ]
}